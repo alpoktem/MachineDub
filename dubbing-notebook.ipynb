{
 "cells": [
  {
   "cell_type": "code",
   "execution_count": 145,
   "metadata": {},
   "outputs": [],
   "source": [
    "import re\n",
    "import os\n",
    "import numpy as np\n",
    "from proscript import *\n",
    "import sentencepiece as spm\n",
    "import matplotlib.pyplot as plt\n",
    "import matplotlib.ticker as ticker\n",
    "import ast\n",
    "from collections import Counter\n",
    "from dataclasses import dataclass"
   ]
  },
  {
   "cell_type": "code",
   "execution_count": 2,
   "metadata": {},
   "outputs": [
    {
     "data": {
      "text/plain": [
       "True"
      ]
     },
     "execution_count": 2,
     "metadata": {},
     "output_type": "execute_result"
    }
   ],
   "source": [
    "#LOAD PIECING MODEL\n",
    "sp = spm.SentencePieceProcessor()\n",
    "sp.Load(\"/Users/alp/Documents/Corpora/ted_en-es/sentencepieced/ted.model\")"
   ]
  },
  {
   "cell_type": "code",
   "execution_count": 3,
   "metadata": {},
   "outputs": [],
   "source": [
    "translation_data_file = \"onmt-heroes/heroes.translation.out\"\n",
    "proscript_data_file = \"/Users/alp/Movies/heroes/transProse_data/audiodata-post/heroes_corpus_Vpost_audiodata.txt\""
   ]
  },
  {
   "cell_type": "code",
   "execution_count": 4,
   "metadata": {},
   "outputs": [],
   "source": [
    "def get_proscript_transcript(input_proscript):\n",
    "    input_tokens = []\n",
    "\n",
    "    for i, w in enumerate(input_proscript.word_list):\n",
    "        input_tokens.append(w.punctuation_before + w.word + w.punctuation_after)\n",
    "\n",
    "    return ' '.join(input_tokens)"
   ]
  },
  {
   "cell_type": "code",
   "execution_count": 5,
   "metadata": {},
   "outputs": [],
   "source": [
    "#PARSE PROSCRIPT DATA FILE (File with paths to segment proscripts)\n",
    "all_available_proscript_path = []\n",
    "with open(proscript_data_file, 'r') as f:\n",
    "    for l in f:\n",
    "        en_csv_path = l.split()[3]\n",
    "        all_available_proscript_path.append(en_csv_path)"
   ]
  },
  {
   "cell_type": "code",
   "execution_count": 7,
   "metadata": {},
   "outputs": [],
   "source": [
    "#PARSE TRANSLATION INFORMATION [of all sentences] WITH ATTENTION WEIGHTS\n",
    "#Also does a proof check as some samples from the dataset have minor problems\n",
    "all_input_pieces = []\n",
    "all_pred_pieces = []\n",
    "all_attention_weights = []\n",
    "all_attention_binary = []\n",
    "all_proscript = []\n",
    "all_proscript_path = []\n",
    "\n",
    "with open(translation_data_file, 'r') as f:\n",
    "    sent_index = 0\n",
    "    attention_first_line = True\n",
    "    for l in f:\n",
    "        if l.isspace():\n",
    "            continue\n",
    "        elif l.startswith((\"GOLD\", \"PRED SCORE\")):\n",
    "            continue\n",
    "        elif l.startswith(\"SENT\"):\n",
    "            input_pieces = ast.literal_eval(l[l.find(':') + 2:])\n",
    "            continue\n",
    "        elif l.startswith(\"PRED\"):\n",
    "            pred_pieces = l[l.find(':') + 2:].split()\n",
    "            continue\n",
    "\n",
    "        if attention_first_line:\n",
    "            attention_first_line = False\n",
    "            num_input_pieces = len(input_pieces)\n",
    "            num_pred_pieces = len(pred_pieces)\n",
    "            sent_attention_weights = np.empty([0, num_input_pieces])\n",
    "            sent_attention_binary = np.empty([0, num_input_pieces])\n",
    "            continue\n",
    "            \n",
    "        #take the rest to the attention matrices until EOS is seen\n",
    "        try:\n",
    "            weights = [float(w) if not w.startswith('*') else float(w[1:]) for w in l.split()[1:]]\n",
    "            binary = [1 if w.startswith('*') else 0 for w in l.split()[1:]]\n",
    "        except:\n",
    "            print(l)\n",
    "            break\n",
    "        \n",
    "        if not l.split()[0] == \"</s>\":\n",
    "            sent_attention_weights = np.vstack([sent_attention_weights, weights])\n",
    "            sent_attention_binary = np.vstack([sent_attention_binary, binary])\n",
    "        else:\n",
    "            #read corresponding proscript\n",
    "            input_proscript = Proscript()\n",
    "            input_proscript.from_file(all_available_proscript_path[sent_index])\n",
    "\n",
    "            #make sure it matches with proscript info\n",
    "            proscript_transcript = get_proscript_transcript(input_proscript)\n",
    "            subtitle_transcript = sp.decode_pieces(input_pieces)\n",
    "            \n",
    "            if proscript_transcript == subtitle_transcript:\n",
    "                #store information \n",
    "                all_proscript_path.append(all_available_proscript_path[sent_index])\n",
    "                all_proscript.append(input_proscript)\n",
    "                all_input_pieces.append(input_pieces)\n",
    "                all_pred_pieces.append(pred_pieces)\n",
    "                all_attention_weights.append(sent_attention_weights)\n",
    "                all_attention_binary.append(sent_attention_binary)\n",
    "            attention_first_line = True\n",
    "            sent_index += 1"
   ]
  },
  {
   "cell_type": "code",
   "execution_count": 111,
   "metadata": {},
   "outputs": [
    {
     "name": "stdout",
     "output_type": "stream",
     "text": [
      "['▁the', '▁fate', '▁of', '▁humanity', '▁itself', '▁han', 'gs', '▁in', '▁the', '▁balance', '...', '▁but', '▁with', '▁proper', '▁funding', '▁and', '▁research', '...', '▁we', '▁can', '▁stop', '▁the', '▁advan', 'cement', '▁of', '▁this', '▁disease', '.']\n",
      "TRANSCRIPT: the fate of humanity itself hangs in the balance... but with proper funding and research... we can stop the advancement of this disease.\n",
      "PROSCRIPT: the fate of humanity itself hangs in the balance... but with proper funding and research... we can stop the advancement of this disease.\n",
      "['▁the', '▁fate', '▁of', '▁humanity', '▁itself', '▁han', 'gs', '▁in', '▁the', '▁balance', '...', '▁but', '▁with', '▁proper', '▁funding', '▁and', '▁research', '...', '▁we', '▁can', '▁stop', '▁the', '▁advan', 'cement', '▁of', '▁this', '▁disease', '.']\n"
     ]
    }
   ],
   "source": [
    "inde = 29\n",
    "print(all_input_pieces[inde])\n",
    "subtitle_transcript = sp.decode_pieces(all_input_pieces[inde])\n",
    "print('TRANSCRIPT:', sp.decode_pieces(all_input_pieces[inde]))\n",
    "\n",
    "proscript_tokens, proscript_token_labels, input_phrase_structure = get_input_structure(all_proscript[inde])\n",
    "#print(proscript_tokens)\n",
    "\n",
    "proscript_transcript = ' '.join(proscript_tokens)\n",
    "print('PROSCRIPT:', proscript_transcript)\n",
    "\n",
    "pieces_from_tokens = []\n",
    "for token in proscript_tokens:\n",
    "    pieces_from_tokens.extend(sp.encode_as_pieces(token))\n",
    "    \n",
    "print(pieces_from_tokens)\n",
    "\n",
    "if not subtitle_transcript == proscript_transcript:\n",
    "    print(\"problem transcripts don't match\")\n",
    "\n",
    "if not len(subtitle_transcript.split()) == len(proscript_transcript.split()):\n",
    "    print(\"problem transcript lengths don't match\")"
   ]
  },
  {
   "cell_type": "code",
   "execution_count": 160,
   "metadata": {},
   "outputs": [
    {
     "name": "stdout",
     "output_type": "stream",
     "text": [
      "Phrase(label=0, tokens=['i', 'urge'], transcript='i urge', start_time=0.0, end_time=0.52, pause_after=0.03)\n",
      "Phrase(label=1, tokens=['each', 'and', 'every', 'one', 'of', 'you'], transcript='each and every one of you...', start_time=0.55, end_time=1.57, pause_after=0.149)\n",
      "Phrase(label=2, tokens=['to', 'take', 'up', 'this', 'cause'], transcript='to take up this cause,', start_time=1.719, end_time=2.689, pause_after=0.13)\n",
      "Phrase(label=3, tokens=['spread', 'the', 'word'], transcript='spread the word...', start_time=2.819, end_time=3.529, pause_after=0.11)\n",
      "/Users/alp/Movies/heroes/corpus_post/heroes_s2_1/spa-eng/segments_eng/heroes_s2_1_eng_aligned_eng0032.csv\n"
     ]
    }
   ],
   "source": [
    "input_tokens, input_token_labels, input_structure = get_input_structure(all_proscript[30])\n",
    "for st in input_structure:\n",
    "    print(st)\n",
    "print(all_proscript_path[30])"
   ]
  },
  {
   "cell_type": "code",
   "execution_count": 148,
   "metadata": {},
   "outputs": [],
   "source": [
    "p1 = Phrase(tokens=['a', 'b'], transcript=\"a b\", start_time=0.0)"
   ]
  },
  {
   "cell_type": "code",
   "execution_count": 159,
   "metadata": {},
   "outputs": [],
   "source": [
    "#EXTRACT PHRASE STRUCTURE FROM INPUT SENT PROSCRIPT\n",
    "\n",
    "@dataclass\n",
    "#struct to store phrase information\n",
    "class Phrase:\n",
    "    label: int\n",
    "    tokens: list\n",
    "    transcript: str\n",
    "    start_time: float\n",
    "    end_time: float\n",
    "    pause_after: float\n",
    "        \n",
    "def get_input_structure(input_proscript, min_segment_pause_interval=0.0):\n",
    "    input_tokens = []\n",
    "    input_token_labels = []\n",
    "    curr_phrase_id = 0\n",
    "\n",
    "    phrase_structure = []\n",
    "    curr_phrase_tokens = []\n",
    "    curr_phrase_transcript = ''\n",
    "    get_start = True\n",
    "    for i, w in enumerate(input_proscript.word_list):\n",
    "        if get_start:\n",
    "            #first token in phrase\n",
    "            phrase_start_time = w.start_time\n",
    "            get_start = False\n",
    "            \n",
    "        token = w.punctuation_before + w.word + w.punctuation_after #THIS IS NOT REALLY TOKEN BUT TEXT ENCLOSED IN WHITESPACE\n",
    "        curr_phrase_transcript += token + ' '\n",
    "        input_tokens.append(token)\n",
    "        input_token_labels.append(curr_phrase_id)\n",
    "        curr_phrase_tokens.append(w.word)\n",
    "        \n",
    "        \n",
    "        #if there's a pause after the current word or if it is the last word, close the phrase\n",
    "        if w.pause_after > min_segment_pause_interval or i == len(input_proscript.word_list) - 1:\n",
    "            phrase = Phrase(label=curr_phrase_id,\n",
    "                            tokens=curr_phrase_tokens, \n",
    "                            transcript=curr_phrase_transcript.strip(), \n",
    "                            start_time=phrase_start_time, \n",
    "                            end_time=w.end_time, \n",
    "                            pause_after=w.pause_after)\n",
    "            \n",
    "            phrase_structure.append(phrase)\n",
    "            \n",
    "            #close phrase\n",
    "            curr_phrase_id += 1\n",
    "            curr_phrase_tokens = []\n",
    "            curr_phrase_transcript = ''\n",
    "            get_start = True\n",
    "    \n",
    "    return input_tokens, input_token_labels, phrase_structure\n",
    "    \n",
    "#labels piece sequence with phrase labels w.r.t input token labels\n",
    "#REFACTOR: this function can be merged to get_input_structure()\n",
    "def token_to_piece_labels(input_pieces, input_tokens, input_token_labels):\n",
    "    #label pieced tokens w.r.t proscript phrase labels\n",
    "    input_piece_labels = []\n",
    "    proscript_token_index = 0\n",
    "    piece_index = 0\n",
    "    curr_token_pieces = sp.EncodeAsPieces(input_tokens[proscript_token_index])\n",
    "    while piece_index < len(input_pieces):\n",
    "        try:\n",
    "            token_piece = curr_token_pieces.pop(0)\n",
    "        except:\n",
    "            proscript_token_index += 1\n",
    "            curr_token_pieces = sp.EncodeAsPieces(input_tokens[proscript_token_index])\n",
    "            continue\n",
    "\n",
    "        if input_pieces[piece_index] == token_piece:\n",
    "            input_piece_labels.append(input_token_labels[proscript_token_index])\n",
    "            piece_index += 1\n",
    "        else:\n",
    "            print(\"somethings not right in token alignment\")\n",
    "\n",
    "    return input_piece_labels"
   ]
  },
  {
   "cell_type": "code",
   "execution_count": 9,
   "metadata": {},
   "outputs": [],
   "source": [
    "#MATCH INPUT PIECE LABELS TO OUTPUT PIECES USING BINARY ATTENTION MATRIX\n",
    "#Naive (kopuk olabilir)\n",
    "def map_piece_labels_naive(pred_pieces, sent_attention_binary):\n",
    "    pred_piece_labels = []\n",
    "    for piece_no, pred_piece in enumerate(pred_pieces):\n",
    "        matching_input_piece_no = np.argmax(sent_attention_binary[piece_no])\n",
    "        matching_input_piece = input_pieces[matching_input_piece_no]\n",
    "        piece_label = input_piece_labels[matching_input_piece_no]\n",
    "        pred_piece_labels.append(piece_label)\n",
    "        #print(pred_piece + \" - \"  + matching_input_piece + \" \" + str(piece_label))\n",
    "    \n",
    "    return pred_piece_labels"
   ]
  },
  {
   "cell_type": "code",
   "execution_count": 53,
   "metadata": {
    "scrolled": true
   },
   "outputs": [],
   "source": [
    "#TRANSLATE PREDICTION PIECE LABELS TO PREDICTION TOKEN LABELS\n",
    "def most_common(lst):\n",
    "    data = Counter(lst)\n",
    "    return max(lst, key=data.get)\n",
    "\n",
    "def piece_to_token(pred_pieces, pred_piece_labels):\n",
    "    tokens = []\n",
    "    token_labels = []\n",
    "    token_label_votes = []\n",
    "    for piece_index, piece in enumerate(pred_pieces):\n",
    "        if piece.startswith('▁'):\n",
    "            tokens.append(piece[1:])\n",
    "            token_label_votes.append([pred_piece_labels[piece_index]])\n",
    "        else:\n",
    "            tokens[-1] += piece\n",
    "            token_label_votes[-1].append(pred_piece_labels[piece_index])\n",
    "    \n",
    "    token_labels = [most_common(token_votes) for token_votes in token_label_votes]\n",
    "    \n",
    "    return tokens, token_labels"
   ]
  },
  {
   "cell_type": "code",
   "execution_count": 233,
   "metadata": {},
   "outputs": [
    {
     "name": "stdout",
     "output_type": "stream",
     "text": [
      "[0, 0, 0, 0, 2, 3, 3, 3, 3, 3, 3, 3, 3, 4, 4, 4]\n",
      "['mi', 'propia', 'madre', 'intentó', 'matarme.', 'y', 'como', 'me', 'defendía', 'a', 'mí', 'misma', 'que', 'había', 'un', 'accidente.']\n",
      "mi propia madre intentó matarme. y como me defendía a mí misma que había un accidente.\n",
      "Phrase(label=0, tokens=['mi', 'propia', 'madre', 'intentó'], transcript='mi propia madre intentó', start_time=0.0, end_time=1.03, pause_after=0.03)\n",
      "Phrase(label=1, tokens=['matarme.'], transcript='matarme.', start_time=1.06, end_time=1.95, pause_after=0.03)\n",
      "Phrase(label=2, tokens=['y'], transcript='y', start_time=1.98, end_time=2.19, pause_after=1.03)\n",
      "Phrase(label=3, tokens=['como', 'me', 'defendía', 'a', 'mí', 'misma', 'que'], transcript='como me defendía a mí misma que', start_time=3.22, end_time=4.63, pause_after=2.149)\n",
      "Phrase(label=4, tokens=['había', 'un', 'accidente.'], transcript='había un accidente.', start_time=6.779, end_time=8.269, pause_after=3.5)\n"
     ]
    }
   ],
   "source": [
    "print(pred_token_labels)\n",
    "print(pred_tokens)\n",
    "pred_phrase_structure = get_output_phrase_structure(pred_tokens, pred_token_labels, input_phrase_structure)\n",
    "print(' '.join(pred_tokens))\n",
    "for p in pred_phrase_structure:\n",
    "    print(p)"
   ]
  },
  {
   "cell_type": "code",
   "execution_count": 237,
   "metadata": {},
   "outputs": [
    {
     "name": "stdout",
     "output_type": "stream",
     "text": [
      "Phrase(label=0, tokens=['my', 'own', 'mother', 'tried'], transcript='my own mother tried', start_time=0.0, end_time=1.03, pause_after=0.03)\n",
      "Phrase(label=1, tokens=['to'], transcript='to', start_time=1.06, end_time=1.95, pause_after=0.03)\n",
      "Phrase(label=2, tokens=['kill', 'me'], transcript='kill me.', start_time=1.98, end_time=2.19, pause_after=1.03)\n",
      "Phrase(label=3, tokens=['and', 'as', 'i', 'defended', 'myself'], transcript='and as i defended myself...', start_time=3.22, end_time=4.63, pause_after=2.149)\n",
      "Phrase(label=4, tokens=['there', 'was', 'an', 'accident'], transcript='there was an accident.', start_time=6.779, end_time=8.269, pause_after=3.5)\n"
     ]
    }
   ],
   "source": [
    "for pi in input_phrase_structure:\n",
    "    print(pi)\n"
   ]
  },
  {
   "cell_type": "code",
   "execution_count": 247,
   "metadata": {},
   "outputs": [],
   "source": [
    "#EXTRACT OUTPUT PHRASE STRUCTURE W.R.T INPUT PHRASE STRUCTURE\n",
    "#requirements: 1. output_token_labels must be monotonously increasing\n",
    "#2. there should be same number of labels in input and output\n",
    "\n",
    "def get_output_phrase_structure(output_tokens, output_token_labels, input_structure):\n",
    "    output_structure = []\n",
    "    curr_phrase_id = 0\n",
    "    curr_phrase_tokens = []\n",
    "    \n",
    "    for i, (tok, l) in enumerate(zip(output_tokens, output_token_labels)):\n",
    "        t = strip_punctuation(tok) \n",
    "        if not l == curr_phrase_id:\n",
    "            #close phrase\n",
    "            phrase = Phrase(label=curr_phrase_id,\n",
    "                            tokens=curr_phrase_tokens, \n",
    "                            transcript=' '.join(curr_phrase_tokens), \n",
    "                            start_time=input_structure[curr_phrase_id].start_time, \n",
    "                            end_time=input_structure[curr_phrase_id].end_time, \n",
    "                            pause_after=input_structure[curr_phrase_id].pause_after)\n",
    "            \n",
    "            output_structure.append(phrase)\n",
    "            curr_phrase_id += 1\n",
    "            curr_phrase_tokens = [t]\n",
    "        else:\n",
    "            curr_phrase_tokens.append(t)\n",
    "    else:\n",
    "        #get the final phrase\n",
    "        phrase = Phrase(label=curr_phrase_id,\n",
    "                            tokens=curr_phrase_tokens, \n",
    "                            transcript=' '.join(curr_phrase_tokens), \n",
    "                            start_time=input_structure[curr_phrase_id].start_time, \n",
    "                            end_time=input_structure[curr_phrase_id].end_time, \n",
    "                            pause_after=input_structure[curr_phrase_id].pause_after)\n",
    "            \n",
    "        output_structure.append(phrase)\n",
    "            \n",
    "    return output_structure\n",
    "\n",
    "#strips punctuation from beginning and end of token\n",
    "def strip_punctuation(token_string):\n",
    "    word_being_processed = token_string\n",
    "    punc_after = \"\"\n",
    "    punc_before = \"\"\n",
    "    \n",
    "    if re.search(r\"^\\W\", word_being_processed):\n",
    "        punc = word_being_processed[:re.search(r\"\\w\", word_being_processed).start()]\n",
    "        punc_before += punc\n",
    "        word_being_processed = word_being_processed[re.search(r\"\\w\", word_being_processed).start():]\n",
    "\n",
    "    #check end again (issue with quotations)\n",
    "    word_reversed = word_being_processed[::-1]\n",
    "    if re.search(r\"^\\W\",word_reversed):\n",
    "        punc = word_reversed[:re.search(r\"\\w\", word_reversed).start()][::-1]\n",
    "        punc_after = punc + punc_after\n",
    "        word_being_processed = word_reversed[re.search(r\"\\w\", word_reversed).start():][::-1]\n",
    "\n",
    "    return word_being_processed"
   ]
  },
  {
   "cell_type": "code",
   "execution_count": 244,
   "metadata": {},
   "outputs": [
    {
     "name": "stdout",
     "output_type": "stream",
     "text": [
      "sdcs\n"
     ]
    }
   ],
   "source": [
    "word_being_processed = '......sdcs,,//'\n",
    "punc_after = \"\"\n",
    "punc_before = \"\"\n",
    "        \n",
    "if re.search(r\"^\\W\", word_being_processed):\n",
    "        punc = word_being_processed[:re.search(r\"\\w\", word_being_processed).start()]\n",
    "        punc_before += punc\n",
    "        word_being_processed = word_being_processed[re.search(r\"\\w\", word_being_processed).start():]\n",
    "\n",
    "#check end again (issue with quotations)\n",
    "word_reversed = word_being_processed[::-1]\n",
    "if re.search(r\"^\\W\",word_reversed):\n",
    "    punc = word_reversed[:re.search(r\"\\w\", word_reversed).start()][::-1]\n",
    "    punc_after = punc + punc_after\n",
    "    word_being_processed = word_reversed[re.search(r\"\\w\", word_reversed).start():][::-1]\n",
    "    \n",
    "print(word_being_processed)"
   ]
  },
  {
   "cell_type": "code",
   "execution_count": 11,
   "metadata": {},
   "outputs": [],
   "source": [
    "def show_attention(input_words, output_words, attentions):\n",
    "    # Set up figure with colorbar\n",
    "    fig = plt.figure(figsize=(12, 12))\n",
    "    \n",
    "    ax = fig.add_subplot(111)\n",
    "    cax = ax.matshow(attentions, cmap='bone_r')\n",
    "    fig.colorbar(cax)\n",
    "\n",
    "    # Set up axes\n",
    "    ax.set_xticklabels([''] + input_words, rotation=90, fontsize=15)\n",
    "    ax.set_yticklabels([''] + output_words, fontsize=15)\n",
    "\n",
    "    # Show label at every tick\n",
    "    ax.xaxis.set_major_locator(ticker.MultipleLocator(1))\n",
    "    ax.yaxis.set_major_locator(ticker.MultipleLocator(1))\n",
    "\n",
    "    plt.show()\n",
    "    plt.close()"
   ]
  },
  {
   "cell_type": "code",
   "execution_count": 232,
   "metadata": {},
   "outputs": [
    {
     "data": {
      "image/png": "[encoded data removed]",
      "text/plain": [
       "<Figure size 864x864 with 2 Axes>"
      ]
     },
     "metadata": {
      "needs_background": "light"
     },
     "output_type": "display_data"
    }
   ],
   "source": [
    "show_attention(input_pieces, pred_pieces, sent_attention_weights)"
   ]
  },
  {
   "cell_type": "code",
   "execution_count": 114,
   "metadata": {},
   "outputs": [
    {
     "data": {
      "text/plain": [
       "False"
      ]
     },
     "execution_count": 114,
     "metadata": {},
     "output_type": "execute_result"
    }
   ],
   "source": [
    "def strictly_increasing(L):\n",
    "    return all(x<=y for x, y in zip(L, L[1:]))\n",
    "\n",
    "strictly_increasing([1,2,2,2,2,2,2,3,5,4])"
   ]
  },
  {
   "cell_type": "code",
   "execution_count": 201,
   "metadata": {},
   "outputs": [
    {
     "data": {
      "text/plain": [
       "117"
      ]
     },
     "execution_count": 201,
     "metadata": {},
     "output_type": "execute_result"
    }
   ],
   "source": [
    "severe_problematic"
   ]
  },
  {
   "cell_type": "code",
   "execution_count": 217,
   "metadata": {},
   "outputs": [
    {
     "name": "stdout",
     "output_type": "stream",
     "text": [
      "Somethings wrong processing 5\n",
      "Somethings wrong processing 7\n",
      "Somethings wrong processing 1185\n",
      "Somethings wrong processing 1759\n",
      "Somethings wrong processing 2174\n",
      "Somethings wrong processing 2613\n",
      "Somethings wrong processing 2707\n",
      "Somethings wrong processing 2886\n",
      "Somethings wrong processing 3018\n",
      "Somethings wrong processing 3617\n",
      "Somethings wrong processing 3665\n",
      "Somethings wrong processing 4079\n",
      "Somethings wrong processing 4643\n",
      "Somethings wrong processing 4962\n",
      "Somethings wrong processing 5081\n",
      "Somethings wrong processing 5167\n",
      "Somethings wrong processing 5206\n",
      "Somethings wrong processing 5255\n",
      "Somethings wrong processing 5320\n",
      "Somethings wrong processing 5337\n",
      "Somethings wrong processing 5358\n",
      "Somethings wrong processing 5710\n",
      "Somethings wrong processing 6154\n",
      "Somethings wrong processing 6347\n",
      "Somethings wrong processing 6927\n"
     ]
    }
   ],
   "source": [
    "#BATCH PROCESS INPUT SEGMENTS->OUTPUT SEGMENTS\n",
    "all_input_tokens = []\n",
    "all_input_token_labels = []\n",
    "all_input_piece_labels = []\n",
    "all_pred_piece_labels = []\n",
    "all_pred_tokens = []\n",
    "all_pred_token_labels = []\n",
    "all_input_phrase_structure = []\n",
    "all_pred_phrase_structure = []\n",
    "\n",
    "MIN_SEGMENT_PAUSE_INTERVAL = 0.5\n",
    "\n",
    "severe_problematic= 0\n",
    "\n",
    "for segment_no, (input_pieces, pred_pieces, input_proscript, sent_attention_binary, sent_attention_weights) in enumerate(zip(all_input_pieces, all_pred_pieces, all_proscript, all_attention_binary, all_attention_weights)):\n",
    "    try:\n",
    "        input_tokens, input_token_labels, input_phrase_structure = get_input_structure(input_proscript, MIN_SEGMENT_PAUSE_INTERVAL)\n",
    "        input_piece_labels = token_to_piece_labels(input_pieces, input_tokens, input_token_labels)\n",
    "        pred_piece_labels = map_piece_labels_naive(pred_pieces, sent_attention_binary)\n",
    "        pred_tokens, pred_token_labels = piece_to_token(pred_pieces, pred_piece_labels)\n",
    "        pred_phrase_structure = get_output_phrase_structure(pred_tokens, pred_token_labels, input_phrase_structure)\n",
    "    except:\n",
    "        input_tokens, input_token_labels, input_piece_labels, pred_piece_labels, pred_tokens, pred_token_labels = None, None, None, None, None, None\n",
    "        print(\"Somethings wrong processing %i\"%segment_no)\n",
    "        severe_problematic += 1\n",
    "        \n",
    "    all_input_tokens.append(input_tokens)\n",
    "    all_input_token_labels.append(input_token_labels)\n",
    "    all_input_piece_labels.append(input_piece_labels)\n",
    "    all_input_phrase_structure.append(input_phrase_structure)\n",
    "    \n",
    "    all_pred_piece_labels.append(pred_piece_labels)\n",
    "    all_pred_tokens.append(pred_tokens)\n",
    "    all_pred_token_labels.append(pred_token_labels)\n",
    "    all_pred_phrase_structure.append(pred_phrase_structure)"
   ]
  },
  {
   "cell_type": "code",
   "execution_count": 249,
   "metadata": {},
   "outputs": [
    {
     "name": "stdout",
     "output_type": "stream",
     "text": [
      "Input segments (from proscript tokens)\n",
      "['my own mother tried', 'to', 'kill me', 'and as i defended myself', 'there was an accident']\n",
      "\n",
      "Segmented output pieces\n",
      "['▁mi ▁propia ▁madre ▁intentó', '', '▁mat arme .', '▁y ▁como ▁me ▁defend ía ▁a ▁mí ▁misma ▁que', '▁había ▁un ▁accidente .']\n",
      "\n",
      "Segmented output tokens\n",
      "['mi propia madre intentó', '', 'matarme.', 'y como me defendía a mí misma que', 'había un accidente.']\n",
      "\n",
      "Matched input and pred segments\n",
      "my own mother tried to kill me and as i defended myself there was an accident\n",
      "mi propia madre intentó  matarme. y como me defendía a mí misma que había un accidente.\n",
      "\n",
      ">my own mother tried\n",
      ">mi propia madre intentó\n",
      "\n",
      ">to\n",
      ">\n",
      "\n",
      ">kill me\n",
      ">matarme.\n",
      "\n",
      ">and as i defended myself\n",
      ">y como me defendía a mí misma que\n",
      "\n",
      ">there was an accident\n",
      ">había un accidente.\n",
      "\n"
     ]
    }
   ],
   "source": [
    "#STUDY PARTICULAR DATA SAMPLE\n",
    "WORKING_SENTENCE_NO = 645\n",
    "\n",
    "input_pieces = all_input_pieces[WORKING_SENTENCE_NO]\n",
    "pred_pieces = all_pred_pieces[WORKING_SENTENCE_NO]\n",
    "input_proscript = all_proscript[WORKING_SENTENCE_NO]\n",
    "sent_attention_binary = all_attention_binary[WORKING_SENTENCE_NO]\n",
    "sent_attention_weights = all_attention_weights[WORKING_SENTENCE_NO]\n",
    "\n",
    "# 1. read from processed batch\n",
    "# input_tokens = all_input_tokens[WORKING_SENTENCE_NO]\n",
    "# input_token_labels = all_input_token_labels[WORKING_SENTENCE_NO]\n",
    "# input_piece_labels = all_input_piece_labels[WORKING_SENTENCE_NO]\n",
    "# input_phrase_structure = all_input_phrase_structure[WORKING_SENTENCE_NO]\n",
    "\n",
    "# pred_tokens = all_pred_tokens[WORKING_SENTENCE_NO]\n",
    "# pred_piece_labels = all_pred_piece_labels[WORKING_SENTENCE_NO]\n",
    "# pred_token_labels = all_pred_token_labels[WORKING_SENTENCE_NO]\n",
    "# pred_phrase_structure = all_pred_phrase_structure[WORKING_SENTENCE_NO]\n",
    "\n",
    "# 2. process your own\n",
    "input_tokens, input_token_labels, input_phrase_structure = get_input_structure(input_proscript, min_segment_pause_interval=0.0)\n",
    "input_piece_labels = token_to_piece_labels(input_pieces, input_tokens, input_token_labels)\n",
    "pred_piece_labels = map_piece_labels_naive(pred_pieces, sent_attention_binary) \n",
    "pred_tokens, pred_token_labels = piece_to_token(pred_pieces, pred_piece_labels)\n",
    "pred_phrase_structure = get_output_phrase_structure(pred_tokens, pred_token_labels, input_phrase_structure)\n",
    "\n",
    "input_segments_from_tokens = [' '.join(p.tokens) for p in input_phrase_structure]\n",
    "\n",
    "print(\"Input segments (from proscript tokens)\")\n",
    "print(input_segments_from_tokens)\n",
    "\n",
    "\n",
    "pred_segment_pieces = [[] for i in range(max(pred_piece_labels) + 1)]\n",
    "for t,i in zip(pred_pieces, pred_piece_labels):\n",
    "    pred_segment_pieces[i].append(t)\n",
    "\n",
    "pred_segments_from_pieces = [' '.join(segment_pieces) for segment_pieces in pred_segment_pieces]\n",
    "    \n",
    "print('\\nSegmented output pieces')\n",
    "print(pred_segments_from_pieces)\n",
    "\n",
    "\n",
    "pred_segment_tokens = [[] for i in range(max(pred_token_labels) + 1)]\n",
    "for t,i in zip(pred_tokens, pred_token_labels):\n",
    "    pred_segment_tokens[i].append(t)\n",
    "\n",
    "pred_segments_from_tokens = [' '.join(segment_tokens) for segment_tokens in pred_segment_tokens]\n",
    "    \n",
    "print(\"\\nSegmented output tokens\")\n",
    "print(pred_segments_from_tokens)\n",
    "\n",
    "#SHOW matched input and prediction segments\n",
    "print(\"\\nMatched input and pred segments\")\n",
    "full_input = ' '.join(input_segments_from_tokens)\n",
    "full_translation = ' '.join(pred_segments_from_tokens)\n",
    "print(full_input)\n",
    "print(full_translation)\n",
    "print()\n",
    "\n",
    "for input_seg, pred_seg in zip(input_segments_from_tokens, pred_segments_from_tokens):\n",
    "    print(\">\" + input_seg)\n",
    "    print(\">\" + pred_seg)\n",
    "    print()\n",
    "    \n",
    "#output files for synthesis\n",
    "#1. plain translation string\n",
    "file_prefix = \"samples/s2_10_0223/translation\"\n",
    "with open (file_prefix + '.txt', 'w') as f_txt:\n",
    "    f_txt.write(full_translation)\n",
    "    \n",
    "#2. phrase structure\n",
    "phrase_output_file = \"samples/s2_10_0223/output_phrase_structure.txt\"\n",
    "with open(phrase_output_file, 'w') as f:\n",
    "    for st in pred_phrase_structure:\n",
    "        f.write(\"%f\\t%f\\t%f\\t%s\\n\"%(st.start_time, st.end_time, st.pause_after, st.tokens))"
   ]
  },
  {
   "cell_type": "code",
   "execution_count": 231,
   "metadata": {},
   "outputs": [],
   "source": [
    "phrase_output_file = \"samples/s2_10_0223/output_phrase_structure.txt\"\n",
    "with open(phrase_output_file, 'w') as f:\n",
    "    for st in pred_phrase_structure:\n",
    "        f.write(\"%f\\t%f\\t%f\\t%s\\n\"%(st.start_time, st.end_time, st.pause_after, st.tokens))"
   ]
  },
  {
   "cell_type": "code",
   "execution_count": 127,
   "metadata": {},
   "outputs": [
    {
     "data": {
      "text/plain": [
       "[1, 0, 1, 1, 1, 1, 1, 1, 1, 1, 1, 1, 1, 1, 1, 1, 1, 1, 1, 1, 1, 1]"
      ]
     },
     "execution_count": 127,
     "metadata": {},
     "output_type": "execute_result"
    }
   ],
   "source": [
    "['i urge', 'each and every one of you...', 'to take up this cause,', 'spread the word...']\n"
   ]
  },
  {
   "cell_type": "code",
   "execution_count": 224,
   "metadata": {
    "scrolled": false
   },
   "outputs": [
    {
     "name": "stdout",
     "output_type": "stream",
     "text": [
      "SAMPLE INDEX 645 (heroes_s2_10_eng_aligned_eng0223.csv)\n",
      "my own mother tried to kill me and as i defended myself there was an accident\n",
      "mi propia madre intentó matarme. y como me defendía a mí misma que había un accidente.\n",
      "\n",
      ">my own mother tried to kill me\n",
      "<mi propia madre intentó matarme.\n",
      "\n",
      ">and as i defended myself\n",
      "<y como me defendía a mí misma que\n",
      "\n",
      ">there was an accident\n",
      "<había un accidente.\n",
      "\n",
      "...\n",
      "SAMPLE INDEX 703 (heroes_s2_10_eng_aligned_eng0281.csv)\n",
      "about everything about me about alejandro\n",
      "sobre todo. sobre mí. sobre el punto de vista.\n",
      "\n",
      ">about everything\n",
      "<sobre todo.\n",
      "\n",
      ">about me\n",
      "<sobre mí.\n",
      "\n",
      ">about alejandro\n",
      "<sobre el punto de vista.\n",
      "\n",
      "...\n",
      "SAMPLE INDEX 732 (heroes_s2_10_eng_aligned_eng0310.csv)\n",
      "as long as you stay out of the way anything crazy happens i need you safe\n",
      "a medida que te quedas de la manera. algo loco ocurre, necesito seguro.\n",
      "\n",
      ">as long as you stay out of the way\n",
      "<a medida que te quedas de la manera.\n",
      "\n",
      ">anything crazy happens\n",
      "<algo loco ocurre,\n",
      "\n",
      ">i need you safe\n",
      "<necesito seguro.\n",
      "\n",
      "...\n",
      "SAMPLE INDEX 915 (heroes_s2_11_eng_aligned_eng0115.csv)\n",
      "your father had him locked away for 30 years i know i was in that same prison\n",
      "su padre lo había quedado encerrado por 30 años. yo sé. estaba en esa misma prisión.\n",
      "\n",
      ">your father had him locked away for 30 years\n",
      "<su padre lo había quedado encerrado por 30 años.\n",
      "\n",
      ">i know\n",
      "<yo sé.\n",
      "\n",
      ">i was in that same prison\n",
      "<estaba en esa misma prisión.\n",
      "\n",
      "...q\n",
      "SAMPLE INDEX 917 (heroes_s2_11_eng_aligned_eng0117.csv)\n",
      "there's a virus it kills almost everyone and it starts here today\n",
      "hay un virus. mata casi todos. y empieza aquí. hoy.\n",
      "\n",
      ">there's a virus\n",
      "<hay un virus.\n",
      "\n",
      ">it kills almost everyone\n",
      "<mata casi todos.\n",
      "\n",
      ">and it starts here\n",
      "<y empieza aquí.\n",
      "\n",
      ">today\n",
      "<hoy.\n",
      "\n",
      "...x\n"
     ]
    }
   ],
   "source": [
    "#GO SAMPLE BY SAMPLE\n",
    "start_from = 500\n",
    "problem_count = 0\n",
    "for sent_no in range(start_from, len(all_input_pieces)):\n",
    "    input_pieces = all_input_pieces[sent_no]\n",
    "    pred_pieces = all_pred_pieces[sent_no]\n",
    "    input_proscript = all_proscript[sent_no]\n",
    "    sent_attention_binary = all_attention_binary[sent_no]\n",
    "    sent_attention_weights = all_attention_weights[sent_no]\n",
    "    proscript_path = all_proscript_path[sent_no]\n",
    "\n",
    "    # 1. read from processed batch\n",
    "    input_tokens = all_input_tokens[sent_no]\n",
    "    input_token_labels = all_input_token_labels[sent_no]\n",
    "    input_piece_labels = all_input_piece_labels[sent_no]\n",
    "    input_phrase_structure = all_input_phrase_structure[sent_no]\n",
    "    pred_tokens = all_pred_tokens[sent_no]\n",
    "    pred_piece_labels = all_pred_piece_labels[sent_no]\n",
    "    pred_token_labels = all_pred_token_labels[sent_no]\n",
    "    pred_phrase_structure = all_pred_phrase_structure[sent_no]\n",
    "    \n",
    "    if pred_token_labels == None:\n",
    "        print(\"SAMPLE %i problematic\"%sent_no)\n",
    "        continue\n",
    "    \n",
    "    \n",
    "#     input_segment_tokens = [[] for i in range(max(input_token_labels) + 1)]\n",
    "#     for t,i in zip(input_tokens, input_token_labels):\n",
    "#         input_segment_tokens[i].append(t)\n",
    "\n",
    "#     input_segments_from_tokens = [' '.join(segment_tokens) for segment_tokens in input_segment_tokens]\n",
    "    input_segments_from_tokens = [' '.join(p.tokens) for p in input_phrase_structure]\n",
    "    \n",
    "#     pred_segment_tokens = [[] for i in range(max(pred_token_labels) + 1)]\n",
    "#     for t,i in zip(pred_tokens, pred_token_labels):\n",
    "#         pred_segment_tokens[i].append(t)\n",
    "\n",
    "#     pred_segments_from_tokens = [' '.join(segment_tokens) for segment_tokens in pred_segment_tokens]\n",
    "    \n",
    "    pred_segments_from_tokens = [' '.join(p.tokens) for p in pred_phrase_structure]\n",
    "    \n",
    "    #SHOW matched input and prediction segments if there's any segmentation\n",
    "    if len(input_segments_from_tokens) > 2:\n",
    "        full_input = ' '.join(input_segments_from_tokens)\n",
    "        full_translation = ' '.join(pred_segments_from_tokens)\n",
    "        \n",
    "        print(\"SAMPLE INDEX %i (%s)\"%(sent_no, os.path.basename(proscript_path)))\n",
    "        print(full_input)\n",
    "        print(full_translation)\n",
    "        print()\n",
    "        output_segs_reconstructed = ''\n",
    "        input_segs_reconstructed = ''\n",
    "        for input_seg, pred_seg in zip(input_segments_from_tokens, pred_segments_from_tokens):\n",
    "            print(\">\" + input_seg)\n",
    "            print(\"<\" + pred_seg)\n",
    "            print()\n",
    "            output_segs_reconstructed += pred_seg + ' '\n",
    "            input_segs_reconstructed += input_seg + ' '\n",
    "        \n",
    "        if not strictly_increasing(pred_token_labels):\n",
    "            print(\"SAMPLE INDEX %i (%s)\"%(sent_no, os.path.basename(proscript_path)))\n",
    "            print(\"kopuk token labels\")\n",
    "            problem_count += 1\n",
    "        \n",
    "        if not full_translation == output_segs_reconstructed.strip():\n",
    "            print('WARNING: output seg not fully covered')\n",
    "        \n",
    "        if not full_input == input_segs_reconstructed.strip():\n",
    "            print('WARNING: input seg not fully covered')\n",
    "              \n",
    "\n",
    "        inp = input(\"...\")\n",
    "        if inp == 'x' or inp == 'X':\n",
    "            break\n",
    "    "
   ]
  },
  {
   "cell_type": "code",
   "execution_count": 211,
   "metadata": {},
   "outputs": [
    {
     "data": {
      "text/plain": [
       "[0, 0, 0]"
      ]
     },
     "execution_count": 211,
     "metadata": {},
     "output_type": "execute_result"
    }
   ],
   "source": [
    "all_pred_token_labels[6]"
   ]
  },
  {
   "cell_type": "code",
   "execution_count": null,
   "metadata": {},
   "outputs": [],
   "source": []
  }
 ],
 "metadata": {
  "kernelspec": {
   "display_name": "Python 3.7",
   "language": "python",
   "name": "python3"
  },
  "language_info": {
   "codemirror_mode": {
    "name": "ipython",
    "version": 3
   },
   "file_extension": ".py",
   "mimetype": "text/x-python",
   "name": "python",
   "nbconvert_exporter": "python",
   "pygments_lexer": "ipython3",
   "version": "3.7.1"
  }
 },
 "nbformat": 4,
 "nbformat_minor": 2
}
